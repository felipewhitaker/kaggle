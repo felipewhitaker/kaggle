{
 "cells": [
  {
   "cell_type": "code",
   "execution_count": 2,
   "metadata": {},
   "outputs": [
    {
     "name": "stdout",
     "output_type": "stream",
     "text": [
      "Warning: Your Kaggle API key is readable by other users on this system! To fix this, you can run 'chmod 600 /Users/felipewhitaker/.kaggle/kaggle.json'\n",
      "Downloading m5-forecasting-accuracy.zip to /Users/felipewhitaker/Documents/MyDocuments/code/Kaggle/walmart\n",
      " 98%|█████████████████████████████████████▎| 45.0M/45.8M [00:04<00:00, 11.5MB/s]\n",
      "100%|██████████████████████████████████████| 45.8M/45.8M [00:04<00:00, 10.3MB/s]\n"
     ]
    }
   ],
   "source": [
    "!kaggle competitions download -c m5-forecasting-accuracy"
   ]
  },
  {
   "cell_type": "code",
   "execution_count": 3,
   "metadata": {},
   "outputs": [],
   "source": [
    "import os"
   ]
  },
  {
   "cell_type": "code",
   "execution_count": 6,
   "metadata": {},
   "outputs": [
    {
     "data": {
      "text/plain": [
       "['sales_train_evaluation.csv',\n",
       " 'Untitled.ipynb',\n",
       " 'calendar.csv',\n",
       " 'sell_prices.csv',\n",
       " '.ipynb_checkpoints',\n",
       " 'sales_train_validation.csv',\n",
       " 'm5-forecasting-accuracy.zip',\n",
       " 'sample_submission.csv']"
      ]
     },
     "execution_count": 6,
     "metadata": {},
     "output_type": "execute_result"
    }
   ],
   "source": [
    "os.listdir()"
   ]
  },
  {
   "cell_type": "code",
   "execution_count": null,
   "metadata": {},
   "outputs": [],
   "source": [
    "import pandas as pd\n",
    "MAX_ROWS = 500"
   ]
  }
 ],
 "metadata": {
  "kernelspec": {
   "display_name": "Python 3",
   "language": "python",
   "name": "python3"
  },
  "language_info": {
   "codemirror_mode": {
    "name": "ipython",
    "version": 3
   },
   "file_extension": ".py",
   "mimetype": "text/x-python",
   "name": "python",
   "nbconvert_exporter": "python",
   "pygments_lexer": "ipython3",
   "version": "3.7.6"
  }
 },
 "nbformat": 4,
 "nbformat_minor": 4
}
